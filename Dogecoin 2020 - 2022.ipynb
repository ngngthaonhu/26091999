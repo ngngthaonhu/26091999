{
  "cells": [
    {
      "cell_type": "markdown",
      "metadata": {
        "id": "ZF1lgLHwJKPe"
      },
      "source": [
        "# 1. Data"
      ]
    },
    {
      "cell_type": "code",
      "execution_count": null,
      "metadata": {
        "colab": {
          "base_uri": "https://localhost:8080/"
        },
        "id": "BBW1SKAtJKPq",
        "outputId": "c8e58d63-2ad7-4311-f1c4-728379fa024d"
      },
      "outputs": [
        {
          "output_type": "stream",
          "name": "stdout",
          "text": [
            "Looking in indexes: https://pypi.org/simple, https://us-python.pkg.dev/colab-wheels/public/simple/\n",
            "Requirement already satisfied: yahoofinancials in /usr/local/lib/python3.8/dist-packages (1.6)\n",
            "Requirement already satisfied: pytz in /usr/local/lib/python3.8/dist-packages (from yahoofinancials) (2022.6)\n",
            "Requirement already satisfied: beautifulsoup4 in /usr/local/lib/python3.8/dist-packages (from yahoofinancials) (4.6.3)\n"
          ]
        }
      ],
      "source": [
        "pip install yahoofinancials"
      ]
    },
    {
      "cell_type": "code",
      "execution_count": null,
      "metadata": {
        "colab": {
          "base_uri": "https://localhost:8080/"
        },
        "id": "-kA00a-IJKPy",
        "outputId": "d3082398-f343-4669-e69b-31add0c681f4"
      },
      "outputs": [
        {
          "output_type": "stream",
          "name": "stdout",
          "text": [
            "Looking in indexes: https://pypi.org/simple, https://us-python.pkg.dev/colab-wheels/public/simple/\n",
            "Requirement already satisfied: yfinance in /usr/local/lib/python3.8/dist-packages (0.1.87)\n",
            "Requirement already satisfied: numpy>=1.15 in /usr/local/lib/python3.8/dist-packages (from yfinance) (1.21.6)\n",
            "Requirement already satisfied: appdirs>=1.4.4 in /usr/local/lib/python3.8/dist-packages (from yfinance) (1.4.4)\n",
            "Requirement already satisfied: lxml>=4.5.1 in /usr/local/lib/python3.8/dist-packages (from yfinance) (4.9.1)\n",
            "Requirement already satisfied: requests>=2.26 in /usr/local/lib/python3.8/dist-packages (from yfinance) (2.28.1)\n",
            "Requirement already satisfied: multitasking>=0.0.7 in /usr/local/lib/python3.8/dist-packages (from yfinance) (0.0.11)\n",
            "Requirement already satisfied: pandas>=0.24.0 in /usr/local/lib/python3.8/dist-packages (from yfinance) (1.3.5)\n",
            "Requirement already satisfied: pytz>=2017.3 in /usr/local/lib/python3.8/dist-packages (from pandas>=0.24.0->yfinance) (2022.6)\n",
            "Requirement already satisfied: python-dateutil>=2.7.3 in /usr/local/lib/python3.8/dist-packages (from pandas>=0.24.0->yfinance) (2.8.2)\n",
            "Requirement already satisfied: six>=1.5 in /usr/local/lib/python3.8/dist-packages (from python-dateutil>=2.7.3->pandas>=0.24.0->yfinance) (1.15.0)\n",
            "Requirement already satisfied: charset-normalizer<3,>=2 in /usr/local/lib/python3.8/dist-packages (from requests>=2.26->yfinance) (2.1.1)\n",
            "Requirement already satisfied: certifi>=2017.4.17 in /usr/local/lib/python3.8/dist-packages (from requests>=2.26->yfinance) (2022.9.24)\n",
            "Requirement already satisfied: idna<4,>=2.5 in /usr/local/lib/python3.8/dist-packages (from requests>=2.26->yfinance) (2.10)\n",
            "Requirement already satisfied: urllib3<1.27,>=1.21.1 in /usr/local/lib/python3.8/dist-packages (from requests>=2.26->yfinance) (1.24.3)\n"
          ]
        }
      ],
      "source": [
        "pip install yfinance"
      ]
    },
    {
      "cell_type": "code",
      "execution_count": null,
      "metadata": {
        "colab": {
          "base_uri": "https://localhost:8080/"
        },
        "id": "8PfbFppVJKP4",
        "outputId": "ba76e727-50f3-4fdd-c48d-1e4bd4141657"
      },
      "outputs": [
        {
          "output_type": "stream",
          "name": "stdout",
          "text": [
            "Looking in indexes: https://pypi.org/simple, https://us-python.pkg.dev/colab-wheels/public/simple/\n",
            "Requirement already satisfied: matplotlib in /usr/local/lib/python3.8/dist-packages (3.2.2)\n",
            "Requirement already satisfied: python-dateutil>=2.1 in /usr/local/lib/python3.8/dist-packages (from matplotlib) (2.8.2)\n",
            "Requirement already satisfied: numpy>=1.11 in /usr/local/lib/python3.8/dist-packages (from matplotlib) (1.21.6)\n",
            "Requirement already satisfied: pyparsing!=2.0.4,!=2.1.2,!=2.1.6,>=2.0.1 in /usr/local/lib/python3.8/dist-packages (from matplotlib) (3.0.9)\n",
            "Requirement already satisfied: kiwisolver>=1.0.1 in /usr/local/lib/python3.8/dist-packages (from matplotlib) (1.4.4)\n",
            "Requirement already satisfied: cycler>=0.10 in /usr/local/lib/python3.8/dist-packages (from matplotlib) (0.11.0)\n",
            "Requirement already satisfied: six>=1.5 in /usr/local/lib/python3.8/dist-packages (from python-dateutil>=2.1->matplotlib) (1.15.0)\n"
          ]
        }
      ],
      "source": [
        "pip install matplotlib"
      ]
    },
    {
      "cell_type": "code",
      "execution_count": null,
      "metadata": {
        "colab": {
          "base_uri": "https://localhost:8080/"
        },
        "id": "bJrt4hm8JKP8",
        "outputId": "1119cac0-d594-4aaf-ff1a-0fbb982c4e94"
      },
      "outputs": [
        {
          "output_type": "stream",
          "name": "stdout",
          "text": [
            "Looking in indexes: https://pypi.org/simple, https://us-python.pkg.dev/colab-wheels/public/simple/\n",
            "Requirement already satisfied: scipy in /usr/local/lib/python3.8/dist-packages (1.7.3)\n",
            "Requirement already satisfied: numpy<1.23.0,>=1.16.5 in /usr/local/lib/python3.8/dist-packages (from scipy) (1.21.6)\n"
          ]
        }
      ],
      "source": [
        "pip install scipy"
      ]
    },
    {
      "cell_type": "code",
      "execution_count": null,
      "metadata": {
        "id": "LyzFN4HPJKQA"
      },
      "outputs": [],
      "source": [
        "# import libraries\n",
        "import pandas as pd\n",
        "import yfinance as yf\n",
        "from yahoofinancials import YahooFinancials\n",
        "import numpy as np\n",
        "import matplotlib.pyplot as plt\n",
        "import scipy.stats as si\n"
      ]
    },
    {
      "cell_type": "markdown",
      "metadata": {
        "id": "8ztAknz8JKQD"
      },
      "source": [
        "### a. Select one major cryptocurrency with the two-year period."
      ]
    },
    {
      "cell_type": "code",
      "execution_count": null,
      "metadata": {
        "id": "8f0qF7sbJKQF"
      },
      "outputs": [],
      "source": [
        "# get ctyptocurrencies data\n",
        "dogecoin = yf.Ticker(\"DOGE-USD\")"
      ]
    },
    {
      "cell_type": "code",
      "execution_count": null,
      "metadata": {
        "colab": {
          "base_uri": "https://localhost:8080/"
        },
        "id": "3cWP2PpEJKQG",
        "outputId": "eda018a7-9c0a-4cc5-f108-d3c622c431a8"
      },
      "outputs": [
        {
          "output_type": "execute_result",
          "data": {
            "text/plain": [
              "{'companyOfficers': [],\n",
              " 'twitter': '\"https://twitter.com/dogecoin\"',\n",
              " 'name': 'Dogecoin',\n",
              " 'startDate': 1387065600,\n",
              " 'description': 'Dogecoin (DOGE) is a cryptocurrency . Users are able to generate DOGE through the process of mining. Dogecoin has a current supply of 132,670,764,299.89409. The last known price of Dogecoin is 0.10413785 USD and is up 2.13 over the last 24 hours. It is currently trading on 608 active market(s) with $728,432,802.75 traded over the last 24 hours. More information can be found at http://dogecoin.com/.',\n",
              " 'maxAge': 1,\n",
              " 'exchange': 'CCC',\n",
              " 'shortName': 'Dogecoin USD',\n",
              " 'exchangeTimezoneName': 'UTC',\n",
              " 'exchangeTimezoneShortName': 'UTC',\n",
              " 'isEsgPopulated': False,\n",
              " 'gmtOffSetMilliseconds': '0',\n",
              " 'quoteType': 'CRYPTOCURRENCY',\n",
              " 'symbol': 'DOGE-USD',\n",
              " 'messageBoardId': 'finmb_DOGE_CCC',\n",
              " 'market': 'ccc_market',\n",
              " 'previousClose': 0.10408018,\n",
              " 'regularMarketOpen': 0.10408018,\n",
              " 'twoHundredDayAverage': 0.07307178,\n",
              " 'trailingAnnualDividendYield': None,\n",
              " 'payoutRatio': None,\n",
              " 'volume24Hr': 910022720,\n",
              " 'regularMarketDayHigh': 0.110828996,\n",
              " 'navPrice': None,\n",
              " 'averageDailyVolume10Day': 1106545261,\n",
              " 'totalAssets': None,\n",
              " 'regularMarketPreviousClose': 0.10408018,\n",
              " 'fiftyDayAverage': 0.089472,\n",
              " 'trailingAnnualDividendRate': None,\n",
              " 'open': 0.10408018,\n",
              " 'toCurrency': 'USD=X',\n",
              " 'averageVolume10days': 1106545261,\n",
              " 'expireDate': None,\n",
              " 'yield': None,\n",
              " 'algorithm': None,\n",
              " 'dividendRate': None,\n",
              " 'exDividendDate': None,\n",
              " 'beta': None,\n",
              " 'circulatingSupply': 132670767104,\n",
              " 'regularMarketDayLow': 0.10385935,\n",
              " 'priceHint': 6,\n",
              " 'currency': 'USD',\n",
              " 'regularMarketVolume': 910022720,\n",
              " 'lastMarket': 'CoinMarketCap',\n",
              " 'maxSupply': None,\n",
              " 'openInterest': None,\n",
              " 'marketCap': 14108665856,\n",
              " 'volumeAllCurrencies': 910022720,\n",
              " 'strikePrice': None,\n",
              " 'averageVolume': 1138275033,\n",
              " 'priceToSalesTrailing12Months': None,\n",
              " 'dayLow': 0.10385935,\n",
              " 'ask': None,\n",
              " 'ytdReturn': None,\n",
              " 'askSize': None,\n",
              " 'volume': 910022720,\n",
              " 'fiftyTwoWeekHigh': 0.219632,\n",
              " 'forwardPE': None,\n",
              " 'fromCurrency': 'DOGE',\n",
              " 'fiveYearAvgDividendYield': None,\n",
              " 'fiftyTwoWeekLow': 0.04972,\n",
              " 'bid': None,\n",
              " 'tradeable': False,\n",
              " 'dividendYield': None,\n",
              " 'bidSize': None,\n",
              " 'dayHigh': 0.110828996,\n",
              " 'coinMarketCapLink': 'https://coinmarketcap.com/currencies/dogecoin',\n",
              " 'regularMarketPrice': 0.10634344,\n",
              " 'preMarketPrice': None,\n",
              " 'logo_url': 'https://logo.clearbit.com/Dogecoin.com',\n",
              " 'trailingPegRatio': None}"
            ]
          },
          "metadata": {},
          "execution_count": 232
        }
      ],
      "source": [
        "# See dogecoin.info\n",
        "dogecoin.info"
      ]
    },
    {
      "cell_type": "markdown",
      "metadata": {
        "id": "RolqWOPSJKQH"
      },
      "source": [
        "### 2. Use python to download its historical daily data via Yahoo Finance."
      ]
    },
    {
      "cell_type": "code",
      "execution_count": null,
      "metadata": {
        "colab": {
          "base_uri": "https://localhost:8080/",
          "height": 237
        },
        "id": "LjuWwI4yJKQI",
        "outputId": "b8d7abb9-8b68-4f52-b2bd-b20ce9c84258"
      },
      "outputs": [
        {
          "output_type": "execute_result",
          "data": {
            "text/plain": [
              "                               Open      High       Low     Close    Volume  \\\n",
              "Date                                                                          \n",
              "2020-11-01 00:00:00+00:00  0.002576  0.002590  0.002561  0.002582  45528682   \n",
              "2020-11-02 00:00:00+00:00  0.002582  0.002592  0.002515  0.002517  50142376   \n",
              "2020-11-03 00:00:00+00:00  0.002517  0.002530  0.002452  0.002528  62871653   \n",
              "2020-11-04 00:00:00+00:00  0.002528  0.002558  0.002497  0.002533  52552651   \n",
              "2020-11-05 00:00:00+00:00  0.002533  0.002639  0.002496  0.002617  31611963   \n",
              "\n",
              "                           Dividends  Stock Splits  \n",
              "Date                                                \n",
              "2020-11-01 00:00:00+00:00          0             0  \n",
              "2020-11-02 00:00:00+00:00          0             0  \n",
              "2020-11-03 00:00:00+00:00          0             0  \n",
              "2020-11-04 00:00:00+00:00          0             0  \n",
              "2020-11-05 00:00:00+00:00          0             0  "
            ],
            "text/html": [
              "\n",
              "  <div id=\"df-6a46650b-48c1-4dea-8c18-554067e113b2\">\n",
              "    <div class=\"colab-df-container\">\n",
              "      <div>\n",
              "<style scoped>\n",
              "    .dataframe tbody tr th:only-of-type {\n",
              "        vertical-align: middle;\n",
              "    }\n",
              "\n",
              "    .dataframe tbody tr th {\n",
              "        vertical-align: top;\n",
              "    }\n",
              "\n",
              "    .dataframe thead th {\n",
              "        text-align: right;\n",
              "    }\n",
              "</style>\n",
              "<table border=\"1\" class=\"dataframe\">\n",
              "  <thead>\n",
              "    <tr style=\"text-align: right;\">\n",
              "      <th></th>\n",
              "      <th>Open</th>\n",
              "      <th>High</th>\n",
              "      <th>Low</th>\n",
              "      <th>Close</th>\n",
              "      <th>Volume</th>\n",
              "      <th>Dividends</th>\n",
              "      <th>Stock Splits</th>\n",
              "    </tr>\n",
              "    <tr>\n",
              "      <th>Date</th>\n",
              "      <th></th>\n",
              "      <th></th>\n",
              "      <th></th>\n",
              "      <th></th>\n",
              "      <th></th>\n",
              "      <th></th>\n",
              "      <th></th>\n",
              "    </tr>\n",
              "  </thead>\n",
              "  <tbody>\n",
              "    <tr>\n",
              "      <th>2020-11-01 00:00:00+00:00</th>\n",
              "      <td>0.002576</td>\n",
              "      <td>0.002590</td>\n",
              "      <td>0.002561</td>\n",
              "      <td>0.002582</td>\n",
              "      <td>45528682</td>\n",
              "      <td>0</td>\n",
              "      <td>0</td>\n",
              "    </tr>\n",
              "    <tr>\n",
              "      <th>2020-11-02 00:00:00+00:00</th>\n",
              "      <td>0.002582</td>\n",
              "      <td>0.002592</td>\n",
              "      <td>0.002515</td>\n",
              "      <td>0.002517</td>\n",
              "      <td>50142376</td>\n",
              "      <td>0</td>\n",
              "      <td>0</td>\n",
              "    </tr>\n",
              "    <tr>\n",
              "      <th>2020-11-03 00:00:00+00:00</th>\n",
              "      <td>0.002517</td>\n",
              "      <td>0.002530</td>\n",
              "      <td>0.002452</td>\n",
              "      <td>0.002528</td>\n",
              "      <td>62871653</td>\n",
              "      <td>0</td>\n",
              "      <td>0</td>\n",
              "    </tr>\n",
              "    <tr>\n",
              "      <th>2020-11-04 00:00:00+00:00</th>\n",
              "      <td>0.002528</td>\n",
              "      <td>0.002558</td>\n",
              "      <td>0.002497</td>\n",
              "      <td>0.002533</td>\n",
              "      <td>52552651</td>\n",
              "      <td>0</td>\n",
              "      <td>0</td>\n",
              "    </tr>\n",
              "    <tr>\n",
              "      <th>2020-11-05 00:00:00+00:00</th>\n",
              "      <td>0.002533</td>\n",
              "      <td>0.002639</td>\n",
              "      <td>0.002496</td>\n",
              "      <td>0.002617</td>\n",
              "      <td>31611963</td>\n",
              "      <td>0</td>\n",
              "      <td>0</td>\n",
              "    </tr>\n",
              "  </tbody>\n",
              "</table>\n",
              "</div>\n",
              "      <button class=\"colab-df-convert\" onclick=\"convertToInteractive('df-6a46650b-48c1-4dea-8c18-554067e113b2')\"\n",
              "              title=\"Convert this dataframe to an interactive table.\"\n",
              "              style=\"display:none;\">\n",
              "        \n",
              "  <svg xmlns=\"http://www.w3.org/2000/svg\" height=\"24px\"viewBox=\"0 0 24 24\"\n",
              "       width=\"24px\">\n",
              "    <path d=\"M0 0h24v24H0V0z\" fill=\"none\"/>\n",
              "    <path d=\"M18.56 5.44l.94 2.06.94-2.06 2.06-.94-2.06-.94-.94-2.06-.94 2.06-2.06.94zm-11 1L8.5 8.5l.94-2.06 2.06-.94-2.06-.94L8.5 2.5l-.94 2.06-2.06.94zm10 10l.94 2.06.94-2.06 2.06-.94-2.06-.94-.94-2.06-.94 2.06-2.06.94z\"/><path d=\"M17.41 7.96l-1.37-1.37c-.4-.4-.92-.59-1.43-.59-.52 0-1.04.2-1.43.59L10.3 9.45l-7.72 7.72c-.78.78-.78 2.05 0 2.83L4 21.41c.39.39.9.59 1.41.59.51 0 1.02-.2 1.41-.59l7.78-7.78 2.81-2.81c.8-.78.8-2.07 0-2.86zM5.41 20L4 18.59l7.72-7.72 1.47 1.35L5.41 20z\"/>\n",
              "  </svg>\n",
              "      </button>\n",
              "      \n",
              "  <style>\n",
              "    .colab-df-container {\n",
              "      display:flex;\n",
              "      flex-wrap:wrap;\n",
              "      gap: 12px;\n",
              "    }\n",
              "\n",
              "    .colab-df-convert {\n",
              "      background-color: #E8F0FE;\n",
              "      border: none;\n",
              "      border-radius: 50%;\n",
              "      cursor: pointer;\n",
              "      display: none;\n",
              "      fill: #1967D2;\n",
              "      height: 32px;\n",
              "      padding: 0 0 0 0;\n",
              "      width: 32px;\n",
              "    }\n",
              "\n",
              "    .colab-df-convert:hover {\n",
              "      background-color: #E2EBFA;\n",
              "      box-shadow: 0px 1px 2px rgba(60, 64, 67, 0.3), 0px 1px 3px 1px rgba(60, 64, 67, 0.15);\n",
              "      fill: #174EA6;\n",
              "    }\n",
              "\n",
              "    [theme=dark] .colab-df-convert {\n",
              "      background-color: #3B4455;\n",
              "      fill: #D2E3FC;\n",
              "    }\n",
              "\n",
              "    [theme=dark] .colab-df-convert:hover {\n",
              "      background-color: #434B5C;\n",
              "      box-shadow: 0px 1px 3px 1px rgba(0, 0, 0, 0.15);\n",
              "      filter: drop-shadow(0px 1px 2px rgba(0, 0, 0, 0.3));\n",
              "      fill: #FFFFFF;\n",
              "    }\n",
              "  </style>\n",
              "\n",
              "      <script>\n",
              "        const buttonEl =\n",
              "          document.querySelector('#df-6a46650b-48c1-4dea-8c18-554067e113b2 button.colab-df-convert');\n",
              "        buttonEl.style.display =\n",
              "          google.colab.kernel.accessAllowed ? 'block' : 'none';\n",
              "\n",
              "        async function convertToInteractive(key) {\n",
              "          const element = document.querySelector('#df-6a46650b-48c1-4dea-8c18-554067e113b2');\n",
              "          const dataTable =\n",
              "            await google.colab.kernel.invokeFunction('convertToInteractive',\n",
              "                                                     [key], {});\n",
              "          if (!dataTable) return;\n",
              "\n",
              "          const docLinkHtml = 'Like what you see? Visit the ' +\n",
              "            '<a target=\"_blank\" href=https://colab.research.google.com/notebooks/data_table.ipynb>data table notebook</a>'\n",
              "            + ' to learn more about interactive tables.';\n",
              "          element.innerHTML = '';\n",
              "          dataTable['output_type'] = 'display_data';\n",
              "          await google.colab.output.renderOutput(dataTable, element);\n",
              "          const docLink = document.createElement('div');\n",
              "          docLink.innerHTML = docLinkHtml;\n",
              "          element.appendChild(docLink);\n",
              "        }\n",
              "      </script>\n",
              "    </div>\n",
              "  </div>\n",
              "  "
            ]
          },
          "metadata": {},
          "execution_count": 233
        }
      ],
      "source": [
        "# get dogecoin historical market data\n",
        "df = dogecoin.history(period=\"2y\", start=\"2020-11-01\", end=\"2022-11-01\")\n",
        "df.head()"
      ]
    },
    {
      "cell_type": "code",
      "execution_count": null,
      "metadata": {
        "colab": {
          "base_uri": "https://localhost:8080/",
          "height": 237
        },
        "id": "_bU-vQMkJKQN",
        "outputId": "2c5832cc-6cfb-4552-a731-62ef19cf3aa3"
      },
      "outputs": [
        {
          "output_type": "execute_result",
          "data": {
            "text/plain": [
              "                               Open      High       Low     Close  \\\n",
              "Date                                                                \n",
              "2022-10-27 00:00:00+00:00  0.072799  0.084825  0.072033  0.077018   \n",
              "2022-10-28 00:00:00+00:00  0.077028  0.087901  0.072930  0.083897   \n",
              "2022-10-29 00:00:00+00:00  0.083933  0.149392  0.083387  0.121603   \n",
              "2022-10-30 00:00:00+00:00  0.121644  0.141657  0.112892  0.117802   \n",
              "2022-10-31 00:00:00+00:00  0.117752  0.130245  0.115076  0.127026   \n",
              "\n",
              "                                Volume  Dividends  Stock Splits  \n",
              "Date                                                             \n",
              "2022-10-27 00:00:00+00:00   2652784687          0             0  \n",
              "2022-10-28 00:00:00+00:00   3172500998          0             0  \n",
              "2022-10-29 00:00:00+00:00  12157642295          0             0  \n",
              "2022-10-30 00:00:00+00:00   7908593943          0             0  \n",
              "2022-10-31 00:00:00+00:00   5814247122          0             0  "
            ],
            "text/html": [
              "\n",
              "  <div id=\"df-3455a460-e612-4d97-a328-7ab5ad225e65\">\n",
              "    <div class=\"colab-df-container\">\n",
              "      <div>\n",
              "<style scoped>\n",
              "    .dataframe tbody tr th:only-of-type {\n",
              "        vertical-align: middle;\n",
              "    }\n",
              "\n",
              "    .dataframe tbody tr th {\n",
              "        vertical-align: top;\n",
              "    }\n",
              "\n",
              "    .dataframe thead th {\n",
              "        text-align: right;\n",
              "    }\n",
              "</style>\n",
              "<table border=\"1\" class=\"dataframe\">\n",
              "  <thead>\n",
              "    <tr style=\"text-align: right;\">\n",
              "      <th></th>\n",
              "      <th>Open</th>\n",
              "      <th>High</th>\n",
              "      <th>Low</th>\n",
              "      <th>Close</th>\n",
              "      <th>Volume</th>\n",
              "      <th>Dividends</th>\n",
              "      <th>Stock Splits</th>\n",
              "    </tr>\n",
              "    <tr>\n",
              "      <th>Date</th>\n",
              "      <th></th>\n",
              "      <th></th>\n",
              "      <th></th>\n",
              "      <th></th>\n",
              "      <th></th>\n",
              "      <th></th>\n",
              "      <th></th>\n",
              "    </tr>\n",
              "  </thead>\n",
              "  <tbody>\n",
              "    <tr>\n",
              "      <th>2022-10-27 00:00:00+00:00</th>\n",
              "      <td>0.072799</td>\n",
              "      <td>0.084825</td>\n",
              "      <td>0.072033</td>\n",
              "      <td>0.077018</td>\n",
              "      <td>2652784687</td>\n",
              "      <td>0</td>\n",
              "      <td>0</td>\n",
              "    </tr>\n",
              "    <tr>\n",
              "      <th>2022-10-28 00:00:00+00:00</th>\n",
              "      <td>0.077028</td>\n",
              "      <td>0.087901</td>\n",
              "      <td>0.072930</td>\n",
              "      <td>0.083897</td>\n",
              "      <td>3172500998</td>\n",
              "      <td>0</td>\n",
              "      <td>0</td>\n",
              "    </tr>\n",
              "    <tr>\n",
              "      <th>2022-10-29 00:00:00+00:00</th>\n",
              "      <td>0.083933</td>\n",
              "      <td>0.149392</td>\n",
              "      <td>0.083387</td>\n",
              "      <td>0.121603</td>\n",
              "      <td>12157642295</td>\n",
              "      <td>0</td>\n",
              "      <td>0</td>\n",
              "    </tr>\n",
              "    <tr>\n",
              "      <th>2022-10-30 00:00:00+00:00</th>\n",
              "      <td>0.121644</td>\n",
              "      <td>0.141657</td>\n",
              "      <td>0.112892</td>\n",
              "      <td>0.117802</td>\n",
              "      <td>7908593943</td>\n",
              "      <td>0</td>\n",
              "      <td>0</td>\n",
              "    </tr>\n",
              "    <tr>\n",
              "      <th>2022-10-31 00:00:00+00:00</th>\n",
              "      <td>0.117752</td>\n",
              "      <td>0.130245</td>\n",
              "      <td>0.115076</td>\n",
              "      <td>0.127026</td>\n",
              "      <td>5814247122</td>\n",
              "      <td>0</td>\n",
              "      <td>0</td>\n",
              "    </tr>\n",
              "  </tbody>\n",
              "</table>\n",
              "</div>\n",
              "      <button class=\"colab-df-convert\" onclick=\"convertToInteractive('df-3455a460-e612-4d97-a328-7ab5ad225e65')\"\n",
              "              title=\"Convert this dataframe to an interactive table.\"\n",
              "              style=\"display:none;\">\n",
              "        \n",
              "  <svg xmlns=\"http://www.w3.org/2000/svg\" height=\"24px\"viewBox=\"0 0 24 24\"\n",
              "       width=\"24px\">\n",
              "    <path d=\"M0 0h24v24H0V0z\" fill=\"none\"/>\n",
              "    <path d=\"M18.56 5.44l.94 2.06.94-2.06 2.06-.94-2.06-.94-.94-2.06-.94 2.06-2.06.94zm-11 1L8.5 8.5l.94-2.06 2.06-.94-2.06-.94L8.5 2.5l-.94 2.06-2.06.94zm10 10l.94 2.06.94-2.06 2.06-.94-2.06-.94-.94-2.06-.94 2.06-2.06.94z\"/><path d=\"M17.41 7.96l-1.37-1.37c-.4-.4-.92-.59-1.43-.59-.52 0-1.04.2-1.43.59L10.3 9.45l-7.72 7.72c-.78.78-.78 2.05 0 2.83L4 21.41c.39.39.9.59 1.41.59.51 0 1.02-.2 1.41-.59l7.78-7.78 2.81-2.81c.8-.78.8-2.07 0-2.86zM5.41 20L4 18.59l7.72-7.72 1.47 1.35L5.41 20z\"/>\n",
              "  </svg>\n",
              "      </button>\n",
              "      \n",
              "  <style>\n",
              "    .colab-df-container {\n",
              "      display:flex;\n",
              "      flex-wrap:wrap;\n",
              "      gap: 12px;\n",
              "    }\n",
              "\n",
              "    .colab-df-convert {\n",
              "      background-color: #E8F0FE;\n",
              "      border: none;\n",
              "      border-radius: 50%;\n",
              "      cursor: pointer;\n",
              "      display: none;\n",
              "      fill: #1967D2;\n",
              "      height: 32px;\n",
              "      padding: 0 0 0 0;\n",
              "      width: 32px;\n",
              "    }\n",
              "\n",
              "    .colab-df-convert:hover {\n",
              "      background-color: #E2EBFA;\n",
              "      box-shadow: 0px 1px 2px rgba(60, 64, 67, 0.3), 0px 1px 3px 1px rgba(60, 64, 67, 0.15);\n",
              "      fill: #174EA6;\n",
              "    }\n",
              "\n",
              "    [theme=dark] .colab-df-convert {\n",
              "      background-color: #3B4455;\n",
              "      fill: #D2E3FC;\n",
              "    }\n",
              "\n",
              "    [theme=dark] .colab-df-convert:hover {\n",
              "      background-color: #434B5C;\n",
              "      box-shadow: 0px 1px 3px 1px rgba(0, 0, 0, 0.15);\n",
              "      filter: drop-shadow(0px 1px 2px rgba(0, 0, 0, 0.3));\n",
              "      fill: #FFFFFF;\n",
              "    }\n",
              "  </style>\n",
              "\n",
              "      <script>\n",
              "        const buttonEl =\n",
              "          document.querySelector('#df-3455a460-e612-4d97-a328-7ab5ad225e65 button.colab-df-convert');\n",
              "        buttonEl.style.display =\n",
              "          google.colab.kernel.accessAllowed ? 'block' : 'none';\n",
              "\n",
              "        async function convertToInteractive(key) {\n",
              "          const element = document.querySelector('#df-3455a460-e612-4d97-a328-7ab5ad225e65');\n",
              "          const dataTable =\n",
              "            await google.colab.kernel.invokeFunction('convertToInteractive',\n",
              "                                                     [key], {});\n",
              "          if (!dataTable) return;\n",
              "\n",
              "          const docLinkHtml = 'Like what you see? Visit the ' +\n",
              "            '<a target=\"_blank\" href=https://colab.research.google.com/notebooks/data_table.ipynb>data table notebook</a>'\n",
              "            + ' to learn more about interactive tables.';\n",
              "          element.innerHTML = '';\n",
              "          dataTable['output_type'] = 'display_data';\n",
              "          await google.colab.output.renderOutput(dataTable, element);\n",
              "          const docLink = document.createElement('div');\n",
              "          docLink.innerHTML = docLinkHtml;\n",
              "          element.appendChild(docLink);\n",
              "        }\n",
              "      </script>\n",
              "    </div>\n",
              "  </div>\n",
              "  "
            ]
          },
          "metadata": {},
          "execution_count": 234
        }
      ],
      "source": [
        "df.tail()"
      ]
    },
    {
      "cell_type": "code",
      "execution_count": null,
      "metadata": {
        "colab": {
          "base_uri": "https://localhost:8080/"
        },
        "id": "deV7Y5RHJKQQ",
        "outputId": "6ebbedca-5795-4ce4-8e16-07f3514a599c"
      },
      "outputs": [
        {
          "output_type": "stream",
          "name": "stdout",
          "text": [
            "<class 'pandas.core.frame.DataFrame'>\n",
            "DatetimeIndex: 730 entries, 2020-11-01 00:00:00+00:00 to 2022-10-31 00:00:00+00:00\n",
            "Data columns (total 7 columns):\n",
            " #   Column        Non-Null Count  Dtype  \n",
            "---  ------        --------------  -----  \n",
            " 0   Open          730 non-null    float64\n",
            " 1   High          730 non-null    float64\n",
            " 2   Low           730 non-null    float64\n",
            " 3   Close         730 non-null    float64\n",
            " 4   Volume        730 non-null    int64  \n",
            " 5   Dividends     730 non-null    int64  \n",
            " 6   Stock Splits  730 non-null    int64  \n",
            "dtypes: float64(4), int64(3)\n",
            "memory usage: 61.8 KB\n"
          ]
        }
      ],
      "source": [
        "df.info()"
      ]
    },
    {
      "cell_type": "markdown",
      "metadata": {
        "id": "zeeDZMq-JKQQ"
      },
      "source": [
        "### 3. Plot the movement (shape) of the cryptocurrency over this time period and calculate its annualised volatility."
      ]
    },
    {
      "cell_type": "code",
      "source": [
        "# Plot the movement \n",
        "plt.figure(figsize=(10, 4), dpi=100)\n",
        "plt.plot(df['Close'])\n",
        "plt.xlabel(\"Months\")\n",
        "plt.ylabel(\"Price ($)\")\n",
        "plt.title(\"Closed price\")"
      ],
      "metadata": {
        "colab": {
          "base_uri": "https://localhost:8080/",
          "height": 422
        },
        "id": "Mnd0hgktJrj7",
        "outputId": "c5d4ff3d-ec4f-4ffa-cf30-56ed725b563c"
      },
      "execution_count": null,
      "outputs": [
        {
          "output_type": "execute_result",
          "data": {
            "text/plain": [
              "Text(0.5, 1.0, 'Closed price')"
            ]
          },
          "metadata": {},
          "execution_count": 236
        },
        {
          "output_type": "display_data",
          "data": {
            "text/plain": [
              "<Figure size 1000x400 with 1 Axes>"
            ],
            "image/png": "[encoded data removed]"
          },
          "metadata": {
            "needs_background": "light"
          }
        }
      ]
    },
    {
      "cell_type": "code",
      "source": [
        "data = df[['Close']]\n",
        "data.head(5)"
      ],
      "metadata": {
        "colab": {
          "base_uri": "https://localhost:8080/",
          "height": 237
        },
        "id": "YwVHfufUn1lU",
        "outputId": "b8db78f7-f709-43cd-b0d7-9e4c47305384"
      },
      "execution_count": null,
      "outputs": [
        {
          "output_type": "execute_result",
          "data": {
            "text/plain": [
              "                              Close\n",
              "Date                               \n",
              "2020-11-01 00:00:00+00:00  0.002582\n",
              "2020-11-02 00:00:00+00:00  0.002517\n",
              "2020-11-03 00:00:00+00:00  0.002528\n",
              "2020-11-04 00:00:00+00:00  0.002533\n",
              "2020-11-05 00:00:00+00:00  0.002617"
            ],
            "text/html": [
              "\n",
              "  <div id=\"df-d2b2953a-5f62-4edc-b968-cc18f76447e8\">\n",
              "    <div class=\"colab-df-container\">\n",
              "      <div>\n",
              "<style scoped>\n",
              "    .dataframe tbody tr th:only-of-type {\n",
              "        vertical-align: middle;\n",
              "    }\n",
              "\n",
              "    .dataframe tbody tr th {\n",
              "        vertical-align: top;\n",
              "    }\n",
              "\n",
              "    .dataframe thead th {\n",
              "        text-align: right;\n",
              "    }\n",
              "</style>\n",
              "<table border=\"1\" class=\"dataframe\">\n",
              "  <thead>\n",
              "    <tr style=\"text-align: right;\">\n",
              "      <th></th>\n",
              "      <th>Close</th>\n",
              "    </tr>\n",
              "    <tr>\n",
              "      <th>Date</th>\n",
              "      <th></th>\n",
              "    </tr>\n",
              "  </thead>\n",
              "  <tbody>\n",
              "    <tr>\n",
              "      <th>2020-11-01 00:00:00+00:00</th>\n",
              "      <td>0.002582</td>\n",
              "    </tr>\n",
              "    <tr>\n",
              "      <th>2020-11-02 00:00:00+00:00</th>\n",
              "      <td>0.002517</td>\n",
              "    </tr>\n",
              "    <tr>\n",
              "      <th>2020-11-03 00:00:00+00:00</th>\n",
              "      <td>0.002528</td>\n",
              "    </tr>\n",
              "    <tr>\n",
              "      <th>2020-11-04 00:00:00+00:00</th>\n",
              "      <td>0.002533</td>\n",
              "    </tr>\n",
              "    <tr>\n",
              "      <th>2020-11-05 00:00:00+00:00</th>\n",
              "      <td>0.002617</td>\n",
              "    </tr>\n",
              "  </tbody>\n",
              "</table>\n",
              "</div>\n",
              "      <button class=\"colab-df-convert\" onclick=\"convertToInteractive('df-d2b2953a-5f62-4edc-b968-cc18f76447e8')\"\n",
              "              title=\"Convert this dataframe to an interactive table.\"\n",
              "              style=\"display:none;\">\n",
              "        \n",
              "  <svg xmlns=\"http://www.w3.org/2000/svg\" height=\"24px\"viewBox=\"0 0 24 24\"\n",
              "       width=\"24px\">\n",
              "    <path d=\"M0 0h24v24H0V0z\" fill=\"none\"/>\n",
              "    <path d=\"M18.56 5.44l.94 2.06.94-2.06 2.06-.94-2.06-.94-.94-2.06-.94 2.06-2.06.94zm-11 1L8.5 8.5l.94-2.06 2.06-.94-2.06-.94L8.5 2.5l-.94 2.06-2.06.94zm10 10l.94 2.06.94-2.06 2.06-.94-2.06-.94-.94-2.06-.94 2.06-2.06.94z\"/><path d=\"M17.41 7.96l-1.37-1.37c-.4-.4-.92-.59-1.43-.59-.52 0-1.04.2-1.43.59L10.3 9.45l-7.72 7.72c-.78.78-.78 2.05 0 2.83L4 21.41c.39.39.9.59 1.41.59.51 0 1.02-.2 1.41-.59l7.78-7.78 2.81-2.81c.8-.78.8-2.07 0-2.86zM5.41 20L4 18.59l7.72-7.72 1.47 1.35L5.41 20z\"/>\n",
              "  </svg>\n",
              "      </button>\n",
              "      \n",
              "  <style>\n",
              "    .colab-df-container {\n",
              "      display:flex;\n",
              "      flex-wrap:wrap;\n",
              "      gap: 12px;\n",
              "    }\n",
              "\n",
              "    .colab-df-convert {\n",
              "      background-color: #E8F0FE;\n",
              "      border: none;\n",
              "      border-radius: 50%;\n",
              "      cursor: pointer;\n",
              "      display: none;\n",
              "      fill: #1967D2;\n",
              "      height: 32px;\n",
              "      padding: 0 0 0 0;\n",
              "      width: 32px;\n",
              "    }\n",
              "\n",
              "    .colab-df-convert:hover {\n",
              "      background-color: #E2EBFA;\n",
              "      box-shadow: 0px 1px 2px rgba(60, 64, 67, 0.3), 0px 1px 3px 1px rgba(60, 64, 67, 0.15);\n",
              "      fill: #174EA6;\n",
              "    }\n",
              "\n",
              "    [theme=dark] .colab-df-convert {\n",
              "      background-color: #3B4455;\n",
              "      fill: #D2E3FC;\n",
              "    }\n",
              "\n",
              "    [theme=dark] .colab-df-convert:hover {\n",
              "      background-color: #434B5C;\n",
              "      box-shadow: 0px 1px 3px 1px rgba(0, 0, 0, 0.15);\n",
              "      filter: drop-shadow(0px 1px 2px rgba(0, 0, 0, 0.3));\n",
              "      fill: #FFFFFF;\n",
              "    }\n",
              "  </style>\n",
              "\n",
              "      <script>\n",
              "        const buttonEl =\n",
              "          document.querySelector('#df-d2b2953a-5f62-4edc-b968-cc18f76447e8 button.colab-df-convert');\n",
              "        buttonEl.style.display =\n",
              "          google.colab.kernel.accessAllowed ? 'block' : 'none';\n",
              "\n",
              "        async function convertToInteractive(key) {\n",
              "          const element = document.querySelector('#df-d2b2953a-5f62-4edc-b968-cc18f76447e8');\n",
              "          const dataTable =\n",
              "            await google.colab.kernel.invokeFunction('convertToInteractive',\n",
              "                                                     [key], {});\n",
              "          if (!dataTable) return;\n",
              "\n",
              "          const docLinkHtml = 'Like what you see? Visit the ' +\n",
              "            '<a target=\"_blank\" href=https://colab.research.google.com/notebooks/data_table.ipynb>data table notebook</a>'\n",
              "            + ' to learn more about interactive tables.';\n",
              "          element.innerHTML = '';\n",
              "          dataTable['output_type'] = 'display_data';\n",
              "          await google.colab.output.renderOutput(dataTable, element);\n",
              "          const docLink = document.createElement('div');\n",
              "          docLink.innerHTML = docLinkHtml;\n",
              "          element.appendChild(docLink);\n",
              "        }\n",
              "      </script>\n",
              "    </div>\n",
              "  </div>\n",
              "  "
            ]
          },
          "metadata": {},
          "execution_count": 237
        }
      ]
    },
    {
      "cell_type": "code",
      "source": [
        "data.diff().head()"
      ],
      "metadata": {
        "colab": {
          "base_uri": "https://localhost:8080/",
          "height": 237
        },
        "id": "qoC7uhCzo0Pr",
        "outputId": "9bcd3fa2-e4c7-4462-98a3-b76e0c855213"
      },
      "execution_count": null,
      "outputs": [
        {
          "output_type": "execute_result",
          "data": {
            "text/plain": [
              "                              Close\n",
              "Date                               \n",
              "2020-11-01 00:00:00+00:00       NaN\n",
              "2020-11-02 00:00:00+00:00 -0.000065\n",
              "2020-11-03 00:00:00+00:00  0.000011\n",
              "2020-11-04 00:00:00+00:00  0.000005\n",
              "2020-11-05 00:00:00+00:00  0.000084"
            ],
            "text/html": [
              "\n",
              "  <div id=\"df-83f7788a-2209-4347-aee1-8cb02c99b588\">\n",
              "    <div class=\"colab-df-container\">\n",
              "      <div>\n",
              "<style scoped>\n",
              "    .dataframe tbody tr th:only-of-type {\n",
              "        vertical-align: middle;\n",
              "    }\n",
              "\n",
              "    .dataframe tbody tr th {\n",
              "        vertical-align: top;\n",
              "    }\n",
              "\n",
              "    .dataframe thead th {\n",
              "        text-align: right;\n",
              "    }\n",
              "</style>\n",
              "<table border=\"1\" class=\"dataframe\">\n",
              "  <thead>\n",
              "    <tr style=\"text-align: right;\">\n",
              "      <th></th>\n",
              "      <th>Close</th>\n",
              "    </tr>\n",
              "    <tr>\n",
              "      <th>Date</th>\n",
              "      <th></th>\n",
              "    </tr>\n",
              "  </thead>\n",
              "  <tbody>\n",
              "    <tr>\n",
              "      <th>2020-11-01 00:00:00+00:00</th>\n",
              "      <td>NaN</td>\n",
              "    </tr>\n",
              "    <tr>\n",
              "      <th>2020-11-02 00:00:00+00:00</th>\n",
              "      <td>-0.000065</td>\n",
              "    </tr>\n",
              "    <tr>\n",
              "      <th>2020-11-03 00:00:00+00:00</th>\n",
              "      <td>0.000011</td>\n",
              "    </tr>\n",
              "    <tr>\n",
              "      <th>2020-11-04 00:00:00+00:00</th>\n",
              "      <td>0.000005</td>\n",
              "    </tr>\n",
              "    <tr>\n",
              "      <th>2020-11-05 00:00:00+00:00</th>\n",
              "      <td>0.000084</td>\n",
              "    </tr>\n",
              "  </tbody>\n",
              "</table>\n",
              "</div>\n",
              "      <button class=\"colab-df-convert\" onclick=\"convertToInteractive('df-83f7788a-2209-4347-aee1-8cb02c99b588')\"\n",
              "              title=\"Convert this dataframe to an interactive table.\"\n",
              "              style=\"display:none;\">\n",
              "        \n",
              "  <svg xmlns=\"http://www.w3.org/2000/svg\" height=\"24px\"viewBox=\"0 0 24 24\"\n",
              "       width=\"24px\">\n",
              "    <path d=\"M0 0h24v24H0V0z\" fill=\"none\"/>\n",
              "    <path d=\"M18.56 5.44l.94 2.06.94-2.06 2.06-.94-2.06-.94-.94-2.06-.94 2.06-2.06.94zm-11 1L8.5 8.5l.94-2.06 2.06-.94-2.06-.94L8.5 2.5l-.94 2.06-2.06.94zm10 10l.94 2.06.94-2.06 2.06-.94-2.06-.94-.94-2.06-.94 2.06-2.06.94z\"/><path d=\"M17.41 7.96l-1.37-1.37c-.4-.4-.92-.59-1.43-.59-.52 0-1.04.2-1.43.59L10.3 9.45l-7.72 7.72c-.78.78-.78 2.05 0 2.83L4 21.41c.39.39.9.59 1.41.59.51 0 1.02-.2 1.41-.59l7.78-7.78 2.81-2.81c.8-.78.8-2.07 0-2.86zM5.41 20L4 18.59l7.72-7.72 1.47 1.35L5.41 20z\"/>\n",
              "  </svg>\n",
              "      </button>\n",
              "      \n",
              "  <style>\n",
              "    .colab-df-container {\n",
              "      display:flex;\n",
              "      flex-wrap:wrap;\n",
              "      gap: 12px;\n",
              "    }\n",
              "\n",
              "    .colab-df-convert {\n",
              "      background-color: #E8F0FE;\n",
              "      border: none;\n",
              "      border-radius: 50%;\n",
              "      cursor: pointer;\n",
              "      display: none;\n",
              "      fill: #1967D2;\n",
              "      height: 32px;\n",
              "      padding: 0 0 0 0;\n",
              "      width: 32px;\n",
              "    }\n",
              "\n",
              "    .colab-df-convert:hover {\n",
              "      background-color: #E2EBFA;\n",
              "      box-shadow: 0px 1px 2px rgba(60, 64, 67, 0.3), 0px 1px 3px 1px rgba(60, 64, 67, 0.15);\n",
              "      fill: #174EA6;\n",
              "    }\n",
              "\n",
              "    [theme=dark] .colab-df-convert {\n",
              "      background-color: #3B4455;\n",
              "      fill: #D2E3FC;\n",
              "    }\n",
              "\n",
              "    [theme=dark] .colab-df-convert:hover {\n",
              "      background-color: #434B5C;\n",
              "      box-shadow: 0px 1px 3px 1px rgba(0, 0, 0, 0.15);\n",
              "      filter: drop-shadow(0px 1px 2px rgba(0, 0, 0, 0.3));\n",
              "      fill: #FFFFFF;\n",
              "    }\n",
              "  </style>\n",
              "\n",
              "      <script>\n",
              "        const buttonEl =\n",
              "          document.querySelector('#df-83f7788a-2209-4347-aee1-8cb02c99b588 button.colab-df-convert');\n",
              "        buttonEl.style.display =\n",
              "          google.colab.kernel.accessAllowed ? 'block' : 'none';\n",
              "\n",
              "        async function convertToInteractive(key) {\n",
              "          const element = document.querySelector('#df-83f7788a-2209-4347-aee1-8cb02c99b588');\n",
              "          const dataTable =\n",
              "            await google.colab.kernel.invokeFunction('convertToInteractive',\n",
              "                                                     [key], {});\n",
              "          if (!dataTable) return;\n",
              "\n",
              "          const docLinkHtml = 'Like what you see? Visit the ' +\n",
              "            '<a target=\"_blank\" href=https://colab.research.google.com/notebooks/data_table.ipynb>data table notebook</a>'\n",
              "            + ' to learn more about interactive tables.';\n",
              "          element.innerHTML = '';\n",
              "          dataTable['output_type'] = 'display_data';\n",
              "          await google.colab.output.renderOutput(dataTable, element);\n",
              "          const docLink = document.createElement('div');\n",
              "          docLink.innerHTML = docLinkHtml;\n",
              "          element.appendChild(docLink);\n",
              "        }\n",
              "      </script>\n",
              "    </div>\n",
              "  </div>\n",
              "  "
            ]
          },
          "metadata": {},
          "execution_count": 238
        }
      ]
    },
    {
      "cell_type": "code",
      "source": [
        "data.diff().describe().round(2)"
      ],
      "metadata": {
        "colab": {
          "base_uri": "https://localhost:8080/",
          "height": 300
        },
        "id": "hx6MDfpFo4Cm",
        "outputId": "faf0ca8c-eaa0-4ca9-8404-eb23d324e8a2"
      },
      "execution_count": null,
      "outputs": [
        {
          "output_type": "execute_result",
          "data": {
            "text/plain": [
              "        Close\n",
              "count  729.00\n",
              "mean     0.00\n",
              "std      0.02\n",
              "min     -0.14\n",
              "25%     -0.00\n",
              "50%     -0.00\n",
              "75%      0.00\n",
              "max      0.18"
            ],
            "text/html": [
              "\n",
              "  <div id=\"df-ba4f0b3f-abe7-4bbc-919b-a710f0903810\">\n",
              "    <div class=\"colab-df-container\">\n",
              "      <div>\n",
              "<style scoped>\n",
              "    .dataframe tbody tr th:only-of-type {\n",
              "        vertical-align: middle;\n",
              "    }\n",
              "\n",
              "    .dataframe tbody tr th {\n",
              "        vertical-align: top;\n",
              "    }\n",
              "\n",
              "    .dataframe thead th {\n",
              "        text-align: right;\n",
              "    }\n",
              "</style>\n",
              "<table border=\"1\" class=\"dataframe\">\n",
              "  <thead>\n",
              "    <tr style=\"text-align: right;\">\n",
              "      <th></th>\n",
              "      <th>Close</th>\n",
              "    </tr>\n",
              "  </thead>\n",
              "  <tbody>\n",
              "    <tr>\n",
              "      <th>count</th>\n",
              "      <td>729.00</td>\n",
              "    </tr>\n",
              "    <tr>\n",
              "      <th>mean</th>\n",
              "      <td>0.00</td>\n",
              "    </tr>\n",
              "    <tr>\n",
              "      <th>std</th>\n",
              "      <td>0.02</td>\n",
              "    </tr>\n",
              "    <tr>\n",
              "      <th>min</th>\n",
              "      <td>-0.14</td>\n",
              "    </tr>\n",
              "    <tr>\n",
              "      <th>25%</th>\n",
              "      <td>-0.00</td>\n",
              "    </tr>\n",
              "    <tr>\n",
              "      <th>50%</th>\n",
              "      <td>-0.00</td>\n",
              "    </tr>\n",
              "    <tr>\n",
              "      <th>75%</th>\n",
              "      <td>0.00</td>\n",
              "    </tr>\n",
              "    <tr>\n",
              "      <th>max</th>\n",
              "      <td>0.18</td>\n",
              "    </tr>\n",
              "  </tbody>\n",
              "</table>\n",
              "</div>\n",
              "      <button class=\"colab-df-convert\" onclick=\"convertToInteractive('df-ba4f0b3f-abe7-4bbc-919b-a710f0903810')\"\n",
              "              title=\"Convert this dataframe to an interactive table.\"\n",
              "              style=\"display:none;\">\n",
              "        \n",
              "  <svg xmlns=\"http://www.w3.org/2000/svg\" height=\"24px\"viewBox=\"0 0 24 24\"\n",
              "       width=\"24px\">\n",
              "    <path d=\"M0 0h24v24H0V0z\" fill=\"none\"/>\n",
              "    <path d=\"M18.56 5.44l.94 2.06.94-2.06 2.06-.94-2.06-.94-.94-2.06-.94 2.06-2.06.94zm-11 1L8.5 8.5l.94-2.06 2.06-.94-2.06-.94L8.5 2.5l-.94 2.06-2.06.94zm10 10l.94 2.06.94-2.06 2.06-.94-2.06-.94-.94-2.06-.94 2.06-2.06.94z\"/><path d=\"M17.41 7.96l-1.37-1.37c-.4-.4-.92-.59-1.43-.59-.52 0-1.04.2-1.43.59L10.3 9.45l-7.72 7.72c-.78.78-.78 2.05 0 2.83L4 21.41c.39.39.9.59 1.41.59.51 0 1.02-.2 1.41-.59l7.78-7.78 2.81-2.81c.8-.78.8-2.07 0-2.86zM5.41 20L4 18.59l7.72-7.72 1.47 1.35L5.41 20z\"/>\n",
              "  </svg>\n",
              "      </button>\n",
              "      \n",
              "  <style>\n",
              "    .colab-df-container {\n",
              "      display:flex;\n",
              "      flex-wrap:wrap;\n",
              "      gap: 12px;\n",
              "    }\n",
              "\n",
              "    .colab-df-convert {\n",
              "      background-color: #E8F0FE;\n",
              "      border: none;\n",
              "      border-radius: 50%;\n",
              "      cursor: pointer;\n",
              "      display: none;\n",
              "      fill: #1967D2;\n",
              "      height: 32px;\n",
              "      padding: 0 0 0 0;\n",
              "      width: 32px;\n",
              "    }\n",
              "\n",
              "    .colab-df-convert:hover {\n",
              "      background-color: #E2EBFA;\n",
              "      box-shadow: 0px 1px 2px rgba(60, 64, 67, 0.3), 0px 1px 3px 1px rgba(60, 64, 67, 0.15);\n",
              "      fill: #174EA6;\n",
              "    }\n",
              "\n",
              "    [theme=dark] .colab-df-convert {\n",
              "      background-color: #3B4455;\n",
              "      fill: #D2E3FC;\n",
              "    }\n",
              "\n",
              "    [theme=dark] .colab-df-convert:hover {\n",
              "      background-color: #434B5C;\n",
              "      box-shadow: 0px 1px 3px 1px rgba(0, 0, 0, 0.15);\n",
              "      filter: drop-shadow(0px 1px 2px rgba(0, 0, 0, 0.3));\n",
              "      fill: #FFFFFF;\n",
              "    }\n",
              "  </style>\n",
              "\n",
              "      <script>\n",
              "        const buttonEl =\n",
              "          document.querySelector('#df-ba4f0b3f-abe7-4bbc-919b-a710f0903810 button.colab-df-convert');\n",
              "        buttonEl.style.display =\n",
              "          google.colab.kernel.accessAllowed ? 'block' : 'none';\n",
              "\n",
              "        async function convertToInteractive(key) {\n",
              "          const element = document.querySelector('#df-ba4f0b3f-abe7-4bbc-919b-a710f0903810');\n",
              "          const dataTable =\n",
              "            await google.colab.kernel.invokeFunction('convertToInteractive',\n",
              "                                                     [key], {});\n",
              "          if (!dataTable) return;\n",
              "\n",
              "          const docLinkHtml = 'Like what you see? Visit the ' +\n",
              "            '<a target=\"_blank\" href=https://colab.research.google.com/notebooks/data_table.ipynb>data table notebook</a>'\n",
              "            + ' to learn more about interactive tables.';\n",
              "          element.innerHTML = '';\n",
              "          dataTable['output_type'] = 'display_data';\n",
              "          await google.colab.output.renderOutput(dataTable, element);\n",
              "          const docLink = document.createElement('div');\n",
              "          docLink.innerHTML = docLinkHtml;\n",
              "          element.appendChild(docLink);\n",
              "        }\n",
              "      </script>\n",
              "    </div>\n",
              "  </div>\n",
              "  "
            ]
          },
          "metadata": {},
          "execution_count": 239
        }
      ]
    },
    {
      "cell_type": "code",
      "source": [
        "data.pct_change().round(4).head()"
      ],
      "metadata": {
        "colab": {
          "base_uri": "https://localhost:8080/",
          "height": 237
        },
        "id": "ByI_Ftu9o6o_",
        "outputId": "d03e7455-9b83-416b-c264-a92b41468e57"
      },
      "execution_count": null,
      "outputs": [
        {
          "output_type": "execute_result",
          "data": {
            "text/plain": [
              "                            Close\n",
              "Date                             \n",
              "2020-11-01 00:00:00+00:00     NaN\n",
              "2020-11-02 00:00:00+00:00 -0.0252\n",
              "2020-11-03 00:00:00+00:00  0.0044\n",
              "2020-11-04 00:00:00+00:00  0.0020\n",
              "2020-11-05 00:00:00+00:00  0.0332"
            ],
            "text/html": [
              "\n",
              "  <div id=\"df-ffbb4b7c-4901-4d5e-8e67-2b14a9a37823\">\n",
              "    <div class=\"colab-df-container\">\n",
              "      <div>\n",
              "<style scoped>\n",
              "    .dataframe tbody tr th:only-of-type {\n",
              "        vertical-align: middle;\n",
              "    }\n",
              "\n",
              "    .dataframe tbody tr th {\n",
              "        vertical-align: top;\n",
              "    }\n",
              "\n",
              "    .dataframe thead th {\n",
              "        text-align: right;\n",
              "    }\n",
              "</style>\n",
              "<table border=\"1\" class=\"dataframe\">\n",
              "  <thead>\n",
              "    <tr style=\"text-align: right;\">\n",
              "      <th></th>\n",
              "      <th>Close</th>\n",
              "    </tr>\n",
              "    <tr>\n",
              "      <th>Date</th>\n",
              "      <th></th>\n",
              "    </tr>\n",
              "  </thead>\n",
              "  <tbody>\n",
              "    <tr>\n",
              "      <th>2020-11-01 00:00:00+00:00</th>\n",
              "      <td>NaN</td>\n",
              "    </tr>\n",
              "    <tr>\n",
              "      <th>2020-11-02 00:00:00+00:00</th>\n",
              "      <td>-0.0252</td>\n",
              "    </tr>\n",
              "    <tr>\n",
              "      <th>2020-11-03 00:00:00+00:00</th>\n",
              "      <td>0.0044</td>\n",
              "    </tr>\n",
              "    <tr>\n",
              "      <th>2020-11-04 00:00:00+00:00</th>\n",
              "      <td>0.0020</td>\n",
              "    </tr>\n",
              "    <tr>\n",
              "      <th>2020-11-05 00:00:00+00:00</th>\n",
              "      <td>0.0332</td>\n",
              "    </tr>\n",
              "  </tbody>\n",
              "</table>\n",
              "</div>\n",
              "      <button class=\"colab-df-convert\" onclick=\"convertToInteractive('df-ffbb4b7c-4901-4d5e-8e67-2b14a9a37823')\"\n",
              "              title=\"Convert this dataframe to an interactive table.\"\n",
              "              style=\"display:none;\">\n",
              "        \n",
              "  <svg xmlns=\"http://www.w3.org/2000/svg\" height=\"24px\"viewBox=\"0 0 24 24\"\n",
              "       width=\"24px\">\n",
              "    <path d=\"M0 0h24v24H0V0z\" fill=\"none\"/>\n",
              "    <path d=\"M18.56 5.44l.94 2.06.94-2.06 2.06-.94-2.06-.94-.94-2.06-.94 2.06-2.06.94zm-11 1L8.5 8.5l.94-2.06 2.06-.94-2.06-.94L8.5 2.5l-.94 2.06-2.06.94zm10 10l.94 2.06.94-2.06 2.06-.94-2.06-.94-.94-2.06-.94 2.06-2.06.94z\"/><path d=\"M17.41 7.96l-1.37-1.37c-.4-.4-.92-.59-1.43-.59-.52 0-1.04.2-1.43.59L10.3 9.45l-7.72 7.72c-.78.78-.78 2.05 0 2.83L4 21.41c.39.39.9.59 1.41.59.51 0 1.02-.2 1.41-.59l7.78-7.78 2.81-2.81c.8-.78.8-2.07 0-2.86zM5.41 20L4 18.59l7.72-7.72 1.47 1.35L5.41 20z\"/>\n",
              "  </svg>\n",
              "      </button>\n",
              "      \n",
              "  <style>\n",
              "    .colab-df-container {\n",
              "      display:flex;\n",
              "      flex-wrap:wrap;\n",
              "      gap: 12px;\n",
              "    }\n",
              "\n",
              "    .colab-df-convert {\n",
              "      background-color: #E8F0FE;\n",
              "      border: none;\n",
              "      border-radius: 50%;\n",
              "      cursor: pointer;\n",
              "      display: none;\n",
              "      fill: #1967D2;\n",
              "      height: 32px;\n",
              "      padding: 0 0 0 0;\n",
              "      width: 32px;\n",
              "    }\n",
              "\n",
              "    .colab-df-convert:hover {\n",
              "      background-color: #E2EBFA;\n",
              "      box-shadow: 0px 1px 2px rgba(60, 64, 67, 0.3), 0px 1px 3px 1px rgba(60, 64, 67, 0.15);\n",
              "      fill: #174EA6;\n",
              "    }\n",
              "\n",
              "    [theme=dark] .colab-df-convert {\n",
              "      background-color: #3B4455;\n",
              "      fill: #D2E3FC;\n",
              "    }\n",
              "\n",
              "    [theme=dark] .colab-df-convert:hover {\n",
              "      background-color: #434B5C;\n",
              "      box-shadow: 0px 1px 3px 1px rgba(0, 0, 0, 0.15);\n",
              "      filter: drop-shadow(0px 1px 2px rgba(0, 0, 0, 0.3));\n",
              "      fill: #FFFFFF;\n",
              "    }\n",
              "  </style>\n",
              "\n",
              "      <script>\n",
              "        const buttonEl =\n",
              "          document.querySelector('#df-ffbb4b7c-4901-4d5e-8e67-2b14a9a37823 button.colab-df-convert');\n",
              "        buttonEl.style.display =\n",
              "          google.colab.kernel.accessAllowed ? 'block' : 'none';\n",
              "\n",
              "        async function convertToInteractive(key) {\n",
              "          const element = document.querySelector('#df-ffbb4b7c-4901-4d5e-8e67-2b14a9a37823');\n",
              "          const dataTable =\n",
              "            await google.colab.kernel.invokeFunction('convertToInteractive',\n",
              "                                                     [key], {});\n",
              "          if (!dataTable) return;\n",
              "\n",
              "          const docLinkHtml = 'Like what you see? Visit the ' +\n",
              "            '<a target=\"_blank\" href=https://colab.research.google.com/notebooks/data_table.ipynb>data table notebook</a>'\n",
              "            + ' to learn more about interactive tables.';\n",
              "          element.innerHTML = '';\n",
              "          dataTable['output_type'] = 'display_data';\n",
              "          await google.colab.output.renderOutput(dataTable, element);\n",
              "          const docLink = document.createElement('div');\n",
              "          docLink.innerHTML = docLinkHtml;\n",
              "          element.appendChild(docLink);\n",
              "        }\n",
              "      </script>\n",
              "    </div>\n",
              "  </div>\n",
              "  "
            ]
          },
          "metadata": {},
          "execution_count": 240
        }
      ]
    },
    {
      "cell_type": "code",
      "source": [
        "data.pct_change().mean().plot(kind='bar', figsize=(10, 6));"
      ],
      "metadata": {
        "colab": {
          "base_uri": "https://localhost:8080/",
          "height": 391
        },
        "id": "AqfCjniro88b",
        "outputId": "3f4899ef-06a2-4618-9cf6-57a27bb0b4d7"
      },
      "execution_count": null,
      "outputs": [
        {
          "output_type": "display_data",
          "data": {
            "text/plain": [
              "<Figure size 720x432 with 1 Axes>"
            ],
            "image/png": "[encoded data removed]"
          },
          "metadata": {
            "needs_background": "light"
          }
        }
      ]
    },
    {
      "cell_type": "code",
      "source": [
        "rets = np.log(data / data.shift(1))\n",
        "rets.head().round(4)"
      ],
      "metadata": {
        "colab": {
          "base_uri": "https://localhost:8080/",
          "height": 237
        },
        "id": "BAbGqoo2pBXH",
        "outputId": "0b64fbcb-4c95-42c9-dc00-3d9131088d68"
      },
      "execution_count": null,
      "outputs": [
        {
          "output_type": "execute_result",
          "data": {
            "text/plain": [
              "                            Close\n",
              "Date                             \n",
              "2020-11-01 00:00:00+00:00     NaN\n",
              "2020-11-02 00:00:00+00:00 -0.0255\n",
              "2020-11-03 00:00:00+00:00  0.0044\n",
              "2020-11-04 00:00:00+00:00  0.0020\n",
              "2020-11-05 00:00:00+00:00  0.0326"
            ],
            "text/html": [
              "\n",
              "  <div id=\"df-0c2ab4c1-28b6-4fdc-b342-76e28d79fc46\">\n",
              "    <div class=\"colab-df-container\">\n",
              "      <div>\n",
              "<style scoped>\n",
              "    .dataframe tbody tr th:only-of-type {\n",
              "        vertical-align: middle;\n",
              "    }\n",
              "\n",
              "    .dataframe tbody tr th {\n",
              "        vertical-align: top;\n",
              "    }\n",
              "\n",
              "    .dataframe thead th {\n",
              "        text-align: right;\n",
              "    }\n",
              "</style>\n",
              "<table border=\"1\" class=\"dataframe\">\n",
              "  <thead>\n",
              "    <tr style=\"text-align: right;\">\n",
              "      <th></th>\n",
              "      <th>Close</th>\n",
              "    </tr>\n",
              "    <tr>\n",
              "      <th>Date</th>\n",
              "      <th></th>\n",
              "    </tr>\n",
              "  </thead>\n",
              "  <tbody>\n",
              "    <tr>\n",
              "      <th>2020-11-01 00:00:00+00:00</th>\n",
              "      <td>NaN</td>\n",
              "    </tr>\n",
              "    <tr>\n",
              "      <th>2020-11-02 00:00:00+00:00</th>\n",
              "      <td>-0.0255</td>\n",
              "    </tr>\n",
              "    <tr>\n",
              "      <th>2020-11-03 00:00:00+00:00</th>\n",
              "      <td>0.0044</td>\n",
              "    </tr>\n",
              "    <tr>\n",
              "      <th>2020-11-04 00:00:00+00:00</th>\n",
              "      <td>0.0020</td>\n",
              "    </tr>\n",
              "    <tr>\n",
              "      <th>2020-11-05 00:00:00+00:00</th>\n",
              "      <td>0.0326</td>\n",
              "    </tr>\n",
              "  </tbody>\n",
              "</table>\n",
              "</div>\n",
              "      <button class=\"colab-df-convert\" onclick=\"convertToInteractive('df-0c2ab4c1-28b6-4fdc-b342-76e28d79fc46')\"\n",
              "              title=\"Convert this dataframe to an interactive table.\"\n",
              "              style=\"display:none;\">\n",
              "        \n",
              "  <svg xmlns=\"http://www.w3.org/2000/svg\" height=\"24px\"viewBox=\"0 0 24 24\"\n",
              "       width=\"24px\">\n",
              "    <path d=\"M0 0h24v24H0V0z\" fill=\"none\"/>\n",
              "    <path d=\"M18.56 5.44l.94 2.06.94-2.06 2.06-.94-2.06-.94-.94-2.06-.94 2.06-2.06.94zm-11 1L8.5 8.5l.94-2.06 2.06-.94-2.06-.94L8.5 2.5l-.94 2.06-2.06.94zm10 10l.94 2.06.94-2.06 2.06-.94-2.06-.94-.94-2.06-.94 2.06-2.06.94z\"/><path d=\"M17.41 7.96l-1.37-1.37c-.4-.4-.92-.59-1.43-.59-.52 0-1.04.2-1.43.59L10.3 9.45l-7.72 7.72c-.78.78-.78 2.05 0 2.83L4 21.41c.39.39.9.59 1.41.59.51 0 1.02-.2 1.41-.59l7.78-7.78 2.81-2.81c.8-.78.8-2.07 0-2.86zM5.41 20L4 18.59l7.72-7.72 1.47 1.35L5.41 20z\"/>\n",
              "  </svg>\n",
              "      </button>\n",
              "      \n",
              "  <style>\n",
              "    .colab-df-container {\n",
              "      display:flex;\n",
              "      flex-wrap:wrap;\n",
              "      gap: 12px;\n",
              "    }\n",
              "\n",
              "    .colab-df-convert {\n",
              "      background-color: #E8F0FE;\n",
              "      border: none;\n",
              "      border-radius: 50%;\n",
              "      cursor: pointer;\n",
              "      display: none;\n",
              "      fill: #1967D2;\n",
              "      height: 32px;\n",
              "      padding: 0 0 0 0;\n",
              "      width: 32px;\n",
              "    }\n",
              "\n",
              "    .colab-df-convert:hover {\n",
              "      background-color: #E2EBFA;\n",
              "      box-shadow: 0px 1px 2px rgba(60, 64, 67, 0.3), 0px 1px 3px 1px rgba(60, 64, 67, 0.15);\n",
              "      fill: #174EA6;\n",
              "    }\n",
              "\n",
              "    [theme=dark] .colab-df-convert {\n",
              "      background-color: #3B4455;\n",
              "      fill: #D2E3FC;\n",
              "    }\n",
              "\n",
              "    [theme=dark] .colab-df-convert:hover {\n",
              "      background-color: #434B5C;\n",
              "      box-shadow: 0px 1px 3px 1px rgba(0, 0, 0, 0.15);\n",
              "      filter: drop-shadow(0px 1px 2px rgba(0, 0, 0, 0.3));\n",
              "      fill: #FFFFFF;\n",
              "    }\n",
              "  </style>\n",
              "\n",
              "      <script>\n",
              "        const buttonEl =\n",
              "          document.querySelector('#df-0c2ab4c1-28b6-4fdc-b342-76e28d79fc46 button.colab-df-convert');\n",
              "        buttonEl.style.display =\n",
              "          google.colab.kernel.accessAllowed ? 'block' : 'none';\n",
              "\n",
              "        async function convertToInteractive(key) {\n",
              "          const element = document.querySelector('#df-0c2ab4c1-28b6-4fdc-b342-76e28d79fc46');\n",
              "          const dataTable =\n",
              "            await google.colab.kernel.invokeFunction('convertToInteractive',\n",
              "                                                     [key], {});\n",
              "          if (!dataTable) return;\n",
              "\n",
              "          const docLinkHtml = 'Like what you see? Visit the ' +\n",
              "            '<a target=\"_blank\" href=https://colab.research.google.com/notebooks/data_table.ipynb>data table notebook</a>'\n",
              "            + ' to learn more about interactive tables.';\n",
              "          element.innerHTML = '';\n",
              "          dataTable['output_type'] = 'display_data';\n",
              "          await google.colab.output.renderOutput(dataTable, element);\n",
              "          const docLink = document.createElement('div');\n",
              "          docLink.innerHTML = docLinkHtml;\n",
              "          element.appendChild(docLink);\n",
              "        }\n",
              "      </script>\n",
              "    </div>\n",
              "  </div>\n",
              "  "
            ]
          },
          "metadata": {},
          "execution_count": 242
        }
      ]
    },
    {
      "cell_type": "code",
      "source": [
        "rets.cumsum().apply(np.exp).plot(figsize=(10, 6));"
      ],
      "metadata": {
        "colab": {
          "base_uri": "https://localhost:8080/",
          "height": 400
        },
        "id": "4IG6mWlBn8KD",
        "outputId": "41eae225-1264-4cfc-dc9c-30bbf7ff39da"
      },
      "execution_count": null,
      "outputs": [
        {
          "output_type": "display_data",
          "data": {
            "text/plain": [
              "<Figure size 720x432 with 1 Axes>"
            ],
            "image/png": "[encoded data removed]"
          },
          "metadata": {
            "needs_background": "light"
          }
        }
      ]
    },
    {
      "cell_type": "code",
      "source": [
        "rets.cumsum().apply(np.exp).resample('1w', label='right').last().plot(figsize=(10, 6))"
      ],
      "metadata": {
        "colab": {
          "base_uri": "https://localhost:8080/",
          "height": 418
        },
        "id": "ZrQt-ljrOggU",
        "outputId": "e30251ba-30aa-43a0-a4ba-8cb7b723679f"
      },
      "execution_count": null,
      "outputs": [
        {
          "output_type": "execute_result",
          "data": {
            "text/plain": [
              "<matplotlib.axes._subplots.AxesSubplot at 0x7f2b0825d4c0>"
            ]
          },
          "metadata": {},
          "execution_count": 244
        },
        {
          "output_type": "display_data",
          "data": {
            "text/plain": [
              "<Figure size 720x432 with 1 Axes>"
            ],
            "image/png": "[encoded data removed]"
          },
          "metadata": {
            "needs_background": "light"
          }
        }
      ]
    },
    {
      "cell_type": "code",
      "source": [
        "rets.cumsum().apply(np.exp). resample('1m', label='right').last().plot(figsize=(10, 6))"
      ],
      "metadata": {
        "colab": {
          "base_uri": "https://localhost:8080/",
          "height": 418
        },
        "id": "QHI2VAj3P4lL",
        "outputId": "50896ce0-38e6-4771-f5ff-5d982eb21bda"
      },
      "execution_count": null,
      "outputs": [
        {
          "output_type": "execute_result",
          "data": {
            "text/plain": [
              "<matplotlib.axes._subplots.AxesSubplot at 0x7f2b098ccc70>"
            ]
          },
          "metadata": {},
          "execution_count": 245
        },
        {
          "output_type": "display_data",
          "data": {
            "text/plain": [
              "<Figure size 720x432 with 1 Axes>"
            ],
            "image/png": "[encoded data removed]"
          },
          "metadata": {
            "needs_background": "light"
          }
        }
      ]
    },
    {
      "cell_type": "code",
      "source": [
        "# Conveniently, Pandas has the pct_change method to calculate the percentage of changes in the daily returns. Let’s use it and store it in a new column “daily_returns”.\n",
        "# Let’s start with dogecoin:\n",
        "df['daily_returns']=(df['Close'].pct_change())*100"
      ],
      "metadata": {
        "id": "21UtvHG0LgN4"
      },
      "execution_count": null,
      "outputs": []
    },
    {
      "cell_type": "code",
      "source": [
        "df.dropna(inplace=True)\n",
        "fig,ax=plt.subplots(figsize=(12,6))\n",
        "plt.plot(df['daily_returns'], label = 'Daily Returns')\n",
        "plt.legend(loc='best')\n",
        "plt.xlabel(\"Months\")\n",
        "plt.xlabel(\"Percent (%)\")\n",
        "plt.title('Dogecoin Stock Daily Returns Over Time')\n",
        "plt.show()"
      ],
      "metadata": {
        "colab": {
          "base_uri": "https://localhost:8080/",
          "height": 404
        },
        "id": "DSajskDaLp5Q",
        "outputId": "e57c2529-ab92-43eb-d384-957ab8fff8d2"
      },
      "execution_count": null,
      "outputs": [
        {
          "output_type": "display_data",
          "data": {
            "text/plain": [
              "<Figure size 864x432 with 1 Axes>"
            ],
            "image/png": "[encoded data removed]"
          },
          "metadata": {
            "needs_background": "light"
          }
        }
      ]
    },
    {
      "cell_type": "code",
      "source": [
        "# Calculate the daily, monthly, and annually volatility of a stock\n",
        "import math\n",
        "daily_volatility = df['daily_returns'].std()\n",
        "print('Daily volatility:')\n",
        "print('Dogecoin: ', '{:.2f}%\\n'.format(daily_volatility))\n",
        "\n",
        "monthly_volatility = math.sqrt(21) * daily_volatility\n",
        "print('Monthly volatility:')\n",
        "print ('Dogecoin: ', '{:.2f}%\\n'.format(monthly_volatility))\n",
        "\n",
        "annual_volatility = math.sqrt(252) * daily_volatility\n",
        "print('Annual volatility:')\n",
        "print ('Dogecoin: ', '{:.2f}%\\n'.format(annual_volatility))"
      ],
      "metadata": {
        "colab": {
          "base_uri": "https://localhost:8080/"
        },
        "id": "FDS-vgD8MI-J",
        "outputId": "48ae5523-b4a8-4bb2-da90-3a834bba5ea0"
      },
      "execution_count": null,
      "outputs": [
        {
          "output_type": "stream",
          "name": "stdout",
          "text": [
            "Daily volatility:\n",
            "Dogecoin:  16.12%\n",
            "\n",
            "Monthly volatility:\n",
            "Dogecoin:  73.87%\n",
            "\n",
            "Annual volatility:\n",
            "Dogecoin:  255.88%\n",
            "\n"
          ]
        }
      ]
    },
    {
      "cell_type": "code",
      "source": [
        "volatility = annual_volatility/100"
      ],
      "metadata": {
        "id": "rMRVVPfCeqQH"
      },
      "execution_count": null,
      "outputs": []
    },
    {
      "cell_type": "markdown",
      "metadata": {
        "id": "YOugkmlCJKQV"
      },
      "source": [
        "# 2. Methodology"
      ]
    },
    {
      "cell_type": "markdown",
      "metadata": {
        "id": "zatP1fglJKQV"
      },
      "source": [
        "### a. Design a derivative and its associated pricing value using at least two methods which must be different. \n",
        "### Hints: Derivative can be any type, such as vanilla option, binary option etc."
      ]
    },
    {
      "cell_type": "markdown",
      "metadata": {
        "id": "BipZdwDbJKQW"
      },
      "source": [
        "#### * Black-Scholes Model\n"
      ]
    },
    {
      "cell_type": "code",
      "execution_count": null,
      "metadata": {
        "id": "4U4IIbgVJKQX"
      },
      "outputs": [],
      "source": [
        "def black_scholes_model(S, K, T, r, sigma, payoff='call'):\n",
        "    '''\n",
        "    S: current stock price\n",
        "    K: strike price\n",
        "    T: time to maturity\n",
        "    r: risk-free interest rate\n",
        "    sigma: volatility\n",
        "    payoff: call or put\n",
        "    '''\n",
        "    d1 = (np.log(S/K) + (r + 0.5 * sigma**2) * T) / (sigma * np.sqrt(T))\n",
        "    d2 = (np.log(S/K) + (r - 0.5 * sigma**2) * T) / (sigma * np.sqrt(T))\n",
        "    if payoff == 'call':\n",
        "        return (S * si.norm.cdf(d1, 0.0, 1.0) - K * np.exp(-r * T) * si.norm.cdf(d2, 0.0, 1.0))\n",
        "    elif payoff == 'put':\n",
        "        return (K * np.exp(-r * T) * si.norm.cdf(-d2, 0.0, 1.0) - S * si.norm.cdf(-d1, 0.0, 1.0))\n",
        "    else:\n",
        "        print('Error: Payoff type not recognized')\n"
      ]
    },
    {
      "cell_type": "markdown",
      "metadata": {
        "id": "Ed_IVgyJJKQZ"
      },
      "source": [
        "#### * Monte Carlo Simulation"
      ]
    },
    {
      "cell_type": "code",
      "execution_count": null,
      "metadata": {
        "id": "y5Sg3R_cJKQa"
      },
      "outputs": [],
      "source": [
        "def monte_carlo_simulation(S, K, T, r, sigma, payoff='call', n=100000):\n",
        "    '''\n",
        "    S: current stock price\n",
        "    K: strike price\n",
        "    T: time to maturity\n",
        "    r: risk-free interest rate\n",
        "    sigma: volatility\n",
        "    payoff: call or put\n",
        "    n: number of simulations\n",
        "    '''\n",
        "    # Generate random numbers\n",
        "    Z = np.random.standard_normal(n)\n",
        "    # Calculate the stock price at maturity\n",
        "    ST = S * np.exp((r - 0.5 * sigma**2) * T + sigma * np.sqrt(T) * Z)\n",
        "    # Calculate the payoff\n",
        "    if payoff == 'call':\n",
        "        payoff = np.maximum(ST - K, 0)\n",
        "    elif payoff == 'put':\n",
        "        payoff = np.maximum(K - ST, 0)\n",
        "    else:\n",
        "        print('Error: Payoff type not recognized')\n",
        "    # Calculate the Monte Carlo estimate\n",
        "    C0 = np.exp(-r * T) * np.sum(payoff) / n\n",
        "    return C0"
      ]
    },
    {
      "cell_type": "markdown",
      "metadata": {
        "id": "Lh8ucuGhJKQd"
      },
      "source": [
        "#### b. You need to compare the results from these methods, such as Binomial, BSM and MC simulation etc. "
      ]
    },
    {
      "cell_type": "code",
      "execution_count": null,
      "metadata": {
        "colab": {
          "base_uri": "https://localhost:8080/"
        },
        "id": "NWFKzFT0JKQe",
        "outputId": "21cc7ea3-c87a-4a0b-8717-01e34856d47b"
      },
      "outputs": [
        {
          "output_type": "stream",
          "name": "stdout",
          "text": [
            "The option value using the Black-Scholes model is:  0.0071456214198630415\n",
            "The option value using the Monte Carlo simulation is:  0.006943901141953096\n"
          ]
        }
      ],
      "source": [
        "# Compute the option value using the Black-Scholes model and Monte Carlo simulation\n",
        "S = df['Close'][-1]\n",
        "K = 100\n",
        "T = 1\n",
        "r = 0.1\n",
        "q = 0\n",
        "vol = volatility\n",
        "payoff = \"call\"\n",
        "n = 100000\n",
        "\n",
        "bsm_value = black_scholes_model(S, K, T, r, vol, payoff)\n",
        "mcs_value = monte_carlo_simulation(S, K, T, r, vol, payoff, n)\n",
        "\n",
        "print(\"The option value using the Black-Scholes model is: \", bsm_value)\n",
        "print(\"The option value using the Monte Carlo simulation is: \", mcs_value)"
      ]
    },
    {
      "cell_type": "markdown",
      "metadata": {
        "id": "UCv-DhcXJKQg"
      },
      "source": [
        "# 3. Analysis\n",
        "\n",
        "#### a. Calculate and explain its Greeks for the risk management purpose. Hints: you need to provide at least five Greeks"
      ]
    },
    {
      "cell_type": "code",
      "execution_count": null,
      "metadata": {
        "colab": {
          "base_uri": "https://localhost:8080/"
        },
        "id": "3XTeO4STJKQg",
        "outputId": "61ffb7af-55c7-4100-e4a7-31f8ab8b83d2"
      },
      "outputs": [
        {
          "output_type": "stream",
          "name": "stdout",
          "text": [
            "The option delta is:  0.09557973774209139\n",
            "The option gamma is:  0.5223339348681754\n",
            "The option vega is:  0.02156612730055022\n",
            "The option theta is:  -0.027854978870603387\n",
            "The option rho is:  0.005262601714806838\n"
          ]
        }
      ],
      "source": [
        "# Calculation and Use of Option Price Partial Derivatives\n",
        "def delta(S, K, T, r, sigma, payoff='call'):\n",
        "    '''\n",
        "    S: current stock price\n",
        "    K: strike price\n",
        "    T: time to maturity\n",
        "    r: risk-free interest rate\n",
        "    sigma: volatility\n",
        "    payoff: call or put\n",
        "    '''\n",
        "    d1 = (np.log(S/K) + (r + 0.5 * sigma**2) * T) / (sigma * np.sqrt(T))\n",
        "    if payoff == 'call':\n",
        "        return si.norm.cdf(d1, 0.0, 1.0)\n",
        "    elif payoff == 'put':\n",
        "        return si.norm.cdf(d1, 0.0, 1.0) - 1\n",
        "    else:\n",
        "        print('Error: Payoff type not recognized')\n",
        "\n",
        "def gamma(S, K, T, r, sigma):\n",
        "    '''\n",
        "    S: current stock price\n",
        "    K: strike price\n",
        "    T: time to maturity\n",
        "    r: risk-free interest rate\n",
        "    sigma: volatility\n",
        "    '''\n",
        "    d1 = (np.log(S/K) + (r + 0.5 * sigma**2) * T) / (sigma * np.sqrt(T))\n",
        "    return si.norm.pdf(d1, 0.0, 1.0) / (S * sigma * np.sqrt(T))\n",
        "\n",
        "def vega(S, K, T, r, sigma):\n",
        "    '''\n",
        "    S: current stock price\n",
        "    K: strike price\n",
        "    T: time to maturity\n",
        "    r: risk-free interest rate\n",
        "    sigma: volatility\n",
        "    '''\n",
        "    d1 = (np.log(S/K) + (r + 0.5 * sigma**2) * T) / (sigma * np.sqrt(T))\n",
        "    return S * si.norm.pdf(d1, 0.0, 1.0) * np.sqrt(T)\n",
        "\n",
        "def theta(S, K, T, r, sigma, payoff='call'):\n",
        "    '''\n",
        "    S: current stock price\n",
        "    K: strike price\n",
        "    T: time to maturity\n",
        "    r: risk-free interest rate\n",
        "    sigma: volatility\n",
        "    payoff: call or put\n",
        "    '''\n",
        "    d1 = (np.log(S/K) + (r + 0.5 * sigma**2) * T) / (sigma * np.sqrt(T))\n",
        "    d2 = (np.log(S/K) + (r - 0.5 * sigma**2) * T) / (sigma * np.sqrt(T))\n",
        "    if payoff == 'call':\n",
        "        return -S * si.norm.pdf(d1, 0.0, 1.0) * sigma / (2 * np.sqrt(T)) - r * K * np.exp(-r * T) * si.norm.cdf(d2, 0.0, 1.0)\n",
        "    elif payoff == 'put':\n",
        "        return -S * si.norm.pdf(d1, 0.0, 1.0) * sigma / (2 * np.sqrt(T)) + r * K * np.exp(-r * T) * si.norm.cdf(-d2, 0.0, 1.0)\n",
        "    else:\n",
        "        print('Error: Payoff type not recognized')\n",
        "\n",
        "def rho(S, K, T, r, sigma, payoff='call'):\n",
        "    '''\n",
        "    S: current stock price\n",
        "    K: strike price\n",
        "    T: time to maturity\n",
        "    r: risk-free interest rate\n",
        "    sigma: volatility\n",
        "    payoff: call or put\n",
        "    '''\n",
        "    d2 = (np.log(S/K) + (r - 0.5 * sigma**2) * T) / (sigma * np.sqrt(T))\n",
        "    if payoff == 'call':\n",
        "        return K * T * np.exp(-r * T) * si.norm.cdf(d2, 0.0, 1.0)\n",
        "    elif payoff == 'put':\n",
        "        return -K * T * np.exp(-r * T) * si.norm.cdf(-d2, 0.0, 1.0)\n",
        "    else:\n",
        "        print('Error: Payoff type not recognized')\n",
        "\n",
        "# Compute the option price partial derivatives\n",
        "S = df['Close'][-1]\n",
        "K = 100\n",
        "T = 1\n",
        "r = 0.05\n",
        "q = 0\n",
        "vol = volatility\n",
        "payoff = \"call\"\n",
        "\n",
        "delta = delta(S, K, T, r, vol, payoff)\n",
        "gamma = gamma(S, K, T, r, vol)\n",
        "vega = vega(S, K, T, r, vol)\n",
        "theta = theta(S, K, T, r, vol, payoff)\n",
        "rho = rho(S, K, T, r, vol, payoff)\n",
        "\n",
        "print(\"The option delta is: \", delta)\n",
        "print(\"The option gamma is: \", gamma)\n",
        "print(\"The option vega is: \", vega)\n",
        "print(\"The option theta is: \", theta)\n",
        "print(\"The option rho is: \", rho)"
      ]
    },
    {
      "cell_type": "code",
      "execution_count": null,
      "metadata": {
        "colab": {
          "base_uri": "https://localhost:8080/"
        },
        "id": "3XvHRO_FJKQj",
        "outputId": "a37d95df-12de-4b85-ae5a-4b07fbd7a104"
      },
      "outputs": [
        {
          "output_type": "stream",
          "name": "stdout",
          "text": [
            "The option delta is:  0.09557973774209139\n",
            "The option gamma is:  0.5223339348681754\n",
            "The option vega is:  0.02156612730055022\n",
            "The option theta is:  -0.027854978870603387\n",
            "The option rho is:  0.005262601714806838\n"
          ]
        }
      ],
      "source": [
        "# Calculation and Use of Option Price Greeks\n",
        "def greeks(S, K, T, r, sigma, payoff='call'):\n",
        "    '''\n",
        "    S: current stock price\n",
        "    K: strike price\n",
        "    T: time to maturity\n",
        "    r: risk-free interest rate\n",
        "    sigma: volatility\n",
        "    payoff: call or put\n",
        "    '''\n",
        "    d1 = (np.log(S/K) + (r + 0.5 * sigma**2) * T) / (sigma * np.sqrt(T))\n",
        "    d2 = (np.log(S/K) + (r - 0.5 * sigma**2) * T) / (sigma * np.sqrt(T))\n",
        "    if payoff == 'call':\n",
        "        delta = si.norm.cdf(d1, 0.0, 1.0)\n",
        "        gamma = si.norm.pdf(d1, 0.0, 1.0) / (S * sigma * np.sqrt(T))\n",
        "        vega = S * si.norm.pdf(d1, 0.0, 1.0) * np.sqrt(T)\n",
        "        theta = -S * si.norm.pdf(d1, 0.0, 1.0) * sigma / (2 * np.sqrt(T)) - r * K * np.exp(-r * T) * si.norm.cdf(d2, 0.0, 1.0)\n",
        "        rho = K * T * np.exp(-r * T) * si.norm.cdf(d2, 0.0, 1.0)\n",
        "    elif payoff == 'put':\n",
        "        delta = si.norm.cdf(d1, 0.0, 1.0) - 1\n",
        "        gamma = si.norm.pdf(d1, 0.0, 1.0) / (S * sigma * np.sqrt(T))\n",
        "        vega = S * si.norm.pdf(d1, 0.0, 1.0) * np.sqrt(T)\n",
        "        theta = -S * si.norm.pdf(d1, 0.0, 1.0) * sigma / (2 * np.sqrt(T)) + r * K * np.exp(-r * T) * si.norm.cdf(-d2, 0.0, 1.0)\n",
        "        rho = -K * T * np.exp(-r * T) * si.norm.cdf(-d2, 0.0, 1.0)\n",
        "    else:\n",
        "        print('Error: Payoff type not recognized')\n",
        "    return delta, gamma, vega, theta, rho\n",
        "\n",
        "# Compute the option price partial derivatives\n",
        "S = df['Close'][-1]\n",
        "K = 100\n",
        "T = 1\n",
        "r = 0.05\n",
        "q = 0\n",
        "vol = volatility\n",
        "payoff = \"call\"\n",
        "\n",
        "delta, gamma, vega, theta, rho = greeks(S, K, T, r, vol, payoff)\n",
        "\n",
        "print(\"The option delta is: \", delta)\n",
        "print(\"The option gamma is: \", gamma)\n",
        "print(\"The option vega is: \", vega)\n",
        "print(\"The option theta is: \", theta)\n",
        "print(\"The option rho is: \", rho)"
      ]
    },
    {
      "cell_type": "markdown",
      "metadata": {
        "id": "g0s_auX7JKQk"
      },
      "source": [
        "#### Delta"
      ]
    },
    {
      "cell_type": "code",
      "execution_count": null,
      "metadata": {
        "colab": {
          "base_uri": "https://localhost:8080/"
        },
        "id": "4YD_sAcVJKQl",
        "outputId": "5d48da17-8c19-4980-f4c6-3b8145734768"
      },
      "outputs": [
        {
          "output_type": "display_data",
          "data": {
            "text/plain": [
              "<Figure size 720x432 with 1 Axes>"
            ],
            "image/png": "[encoded data removed]"
          },
          "metadata": {
            "needs_background": "light"
          }
        }
      ],
      "source": [
        "# Delta plot for a different payoff\n",
        "S = df['Close']\n",
        "K = 100\n",
        "T = 1\n",
        "r = 0.05\n",
        "q = 0\n",
        "vol = volatility\n",
        "\n",
        "delta_call = []\n",
        "delta_put = []\n",
        "\n",
        "for i in range(len(S)):\n",
        "    delta_call.append(greeks(S[i], K, T, r, vol, 'call')[0])\n",
        "    delta_put.append(greeks(S[i], K, T, r, vol, 'put')[0])\n",
        "\n",
        "plt.figure(figsize=(10, 6))\n",
        "plt.plot(S, delta_call, label='Delta for call')\n",
        "plt.plot(S, delta_put, label='Delta for put')\n",
        "plt.xlabel('Stock Price')\n",
        "plt.ylabel('Delta')\n",
        "plt.legend()\n",
        "plt.show()"
      ]
    },
    {
      "cell_type": "markdown",
      "metadata": {
        "id": "qxIvzl1CJKQm"
      },
      "source": [
        "#### Gamma"
      ]
    },
    {
      "cell_type": "code",
      "execution_count": null,
      "metadata": {
        "colab": {
          "base_uri": "https://localhost:8080/"
        },
        "id": "4CrzbbH-JKQn",
        "outputId": "c974b3a4-f7c6-4f49-ab00-d37220dc4118"
      },
      "outputs": [
        {
          "output_type": "display_data",
          "data": {
            "text/plain": [
              "<Figure size 720x432 with 1 Axes>"
            ],
            "image/png": "[encoded data removed]"
          },
          "metadata": {
            "needs_background": "light"
          }
        }
      ],
      "source": [
        "# Gamma plot for a different payoff\n",
        "S = df['Close']\n",
        "K = 100\n",
        "T = 1\n",
        "r = 0.05\n",
        "q = 0\n",
        "vol = volatility\n",
        "\n",
        "gamma_call = []\n",
        "gamma_put = []\n",
        "\n",
        "for i in range(len(S)):\n",
        "    gamma_call.append(greeks(S[i], K, T, r, vol, 'call')[1])\n",
        "    gamma_put.append(greeks(S[i], K, T, r, vol, 'put')[1])\n",
        "\n",
        "plt.figure(figsize=(10, 6))\n",
        "plt.plot(S, gamma_call, label='Gamma for call and put')\n",
        "plt.xlabel('Stock Price')\n",
        "plt.ylabel('Gamma')\n",
        "plt.legend()\n",
        "plt.show()\n"
      ]
    },
    {
      "cell_type": "markdown",
      "metadata": {
        "id": "2bLDNadfJKQo"
      },
      "source": [
        "#### Vega"
      ]
    },
    {
      "cell_type": "code",
      "execution_count": null,
      "metadata": {
        "colab": {
          "base_uri": "https://localhost:8080/"
        },
        "id": "eAmOYz6uJKQp",
        "outputId": "874ccb18-dc27-4492-ee9e-1b59fbb229ba"
      },
      "outputs": [
        {
          "output_type": "display_data",
          "data": {
            "text/plain": [
              "<Figure size 720x432 with 1 Axes>"
            ],
            "image/png": "[encoded data removed]"
          },
          "metadata": {
            "needs_background": "light"
          }
        }
      ],
      "source": [
        "# Vega plot for a different payoff\n",
        "S = df['Close']\n",
        "K = 100\n",
        "T = 1\n",
        "r = 0.05\n",
        "q = 0\n",
        "vol = volatility\n",
        "\n",
        "vega_call = []\n",
        "vega_put = []\n",
        "\n",
        "for i in range(len(S)):\n",
        "    vega_call.append(greeks(S[i], K, T, r, vol, 'call')[2])\n",
        "    vega_put.append(greeks(S[i], K, T, r, vol, 'put')[2])\n",
        "\n",
        "plt.figure(figsize=(10, 6))\n",
        "plt.plot(S, vega_call, label='Vega for call and put')\n",
        "plt.xlabel('Stock Price')\n",
        "plt.ylabel('Vega')\n",
        "plt.legend()\n",
        "plt.show()\n"
      ]
    },
    {
      "cell_type": "markdown",
      "metadata": {
        "id": "RQFIq86LJKQr"
      },
      "source": [
        "#### Theta"
      ]
    },
    {
      "cell_type": "code",
      "execution_count": null,
      "metadata": {
        "colab": {
          "base_uri": "https://localhost:8080/"
        },
        "id": "vPoeHiAfJKQt",
        "outputId": "aa5bd81b-7328-4f83-8e08-89f7e6e80b6c"
      },
      "outputs": [
        {
          "output_type": "display_data",
          "data": {
            "text/plain": [
              "<Figure size 720x432 with 1 Axes>"
            ],
            "image/png": "[encoded data removed]"
          },
          "metadata": {
            "needs_background": "light"
          }
        }
      ],
      "source": [
        "# Theta plot for a different payoff\n",
        "S = df['Close']\n",
        "K = 100\n",
        "T = 1\n",
        "r = 0.05\n",
        "q = 0\n",
        "vol = volatility\n",
        "\n",
        "theta_call = []\n",
        "theta_put = []\n",
        "\n",
        "for i in range(len(S)):\n",
        "    theta_call.append(greeks(S[i], K, T, r, vol, 'call')[3])\n",
        "    theta_put.append(greeks(S[i], K, T, r, vol, 'put')[3])\n",
        "\n",
        "plt.figure(figsize=(10, 6))\n",
        "plt.plot(S, theta_call, label='Theta for call')\n",
        "plt.plot(S, theta_put, label='Theta for put')\n",
        "plt.xlabel('Stock Price')\n",
        "plt.ylabel('Theta')\n",
        "plt.legend()\n",
        "plt.show()"
      ]
    },
    {
      "cell_type": "markdown",
      "metadata": {
        "id": "aP6IMEhmJKQu"
      },
      "source": [
        "#### Rho"
      ]
    },
    {
      "cell_type": "code",
      "execution_count": null,
      "metadata": {
        "colab": {
          "base_uri": "https://localhost:8080/"
        },
        "id": "ZQ_G8P6UJKQv",
        "outputId": "26dd2123-f8cf-488a-f4ba-1b32fe0bc40f"
      },
      "outputs": [
        {
          "output_type": "display_data",
          "data": {
            "text/plain": [
              "<Figure size 720x432 with 1 Axes>"
            ],
            "image/png": "[encoded data removed]"
          },
          "metadata": {
            "needs_background": "light"
          }
        }
      ],
      "source": [
        "# Rho plot for a different payoff\n",
        "S = df['Close']\n",
        "K = 100\n",
        "T = 1\n",
        "r = 0.05\n",
        "q = 0\n",
        "vol = volatility\n",
        "\n",
        "rho_call = []\n",
        "rho_put = []\n",
        "\n",
        "for i in range(len(S)):\n",
        "    rho_call.append(greeks(S[i], K, T, r, vol, 'call')[4])\n",
        "    rho_put.append(greeks(S[i], K, T, r, vol, 'put')[4])\n",
        "\n",
        "plt.figure(figsize=(10, 6))\n",
        "plt.plot(S, rho_call, label='Rho for call')\n",
        "plt.plot(S, rho_put, label='Rho for put')\n",
        "plt.xlabel('Stock Price')\n",
        "plt.ylabel('Rho')\n",
        "plt.legend()\n",
        "plt.show()\n"
      ]
    }
  ],
  "metadata": {
    "kernelspec": {
      "display_name": "Python 3.10.8 64-bit (microsoft store)",
      "language": "python",
      "name": "python3"
    },
    "language_info": {
      "codemirror_mode": {
        "name": "ipython",
        "version": 3
      },
      "file_extension": ".py",
      "mimetype": "text/x-python",
      "name": "python",
      "nbconvert_exporter": "python",
      "pygments_lexer": "ipython3",
      "version": "3.10.8"
    },
    "orig_nbformat": 4,
    "vscode": {
      "interpreter": {
        "hash": "97189605a373f82fad3e343d2818d1dea9b88de0489f48f25ef7379cc9b0023f"
      }
    },
    "colab": {
      "provenance": []
    }
  },
  "nbformat": 4,
  "nbformat_minor": 0
}